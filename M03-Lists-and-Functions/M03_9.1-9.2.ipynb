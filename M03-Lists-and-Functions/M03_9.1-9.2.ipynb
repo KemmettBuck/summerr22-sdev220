{
  "metadata": {
    "language_info": {
      "codemirror_mode": {
        "name": "python",
        "version": 3
      },
      "file_extension": ".py",
      "mimetype": "text/x-python",
      "name": "python",
      "nbconvert_exporter": "python",
      "pygments_lexer": "ipython3",
      "version": "3.8"
    },
    "kernelspec": {
      "name": "python",
      "display_name": "Pyolite",
      "language": "python"
    }
  },
  "nbformat_minor": 4,
  "nbformat": 4,
  "cells": [
    {
      "cell_type": "code",
      "source": "# 9.1 Define a function called good() that returns the following list:\n#    [\"Harry\", \"Ron\", \"Hermione\"]\n\ndef good():\n    return [\"Harry\", \"Ron\", \"Hermione\"]\n\ngood()",
      "metadata": {
        "trusted": true
      },
      "execution_count": 2,
      "outputs": [
        {
          "execution_count": 2,
          "output_type": "execute_result",
          "data": {
            "text/plain": "['Harry', 'Ron', 'Hermione']"
          },
          "metadata": {}
        }
      ]
    },
    {
      "cell_type": "code",
      "source": "# 9.2 Define a generator function called get_odds() that returns the odd numbers from range(10)\n#    Use a for loop to find and print the third value returned.\n\ndef get_odds():\n    for number in range(1, 10, 2):\n        yield number\n\ncount = 1\nfor number in get_odds():\n    if count == 3:\n        print(\"The third odd number is\", number)\n        break\n    count += 1",
      "metadata": {
        "trusted": true
      },
      "execution_count": 3,
      "outputs": [
        {
          "name": "stdout",
          "text": "The third odd number is 5\n",
          "output_type": "stream"
        }
      ]
    },
    {
      "cell_type": "code",
      "source": "",
      "metadata": {},
      "execution_count": null,
      "outputs": []
    }
  ]
}