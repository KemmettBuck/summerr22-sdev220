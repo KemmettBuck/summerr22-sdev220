{
 "cells": [
  {
   "cell_type": "code",
   "execution_count": 1,
   "id": "7c7ddaac",
   "metadata": {},
   "outputs": [
    {
     "name": "stdout",
     "output_type": "stream",
     "text": [
      "Enter Car Year: 2016\n",
      "Enter Car Make: Toyota\n",
      "Enter Car Model: Camry\n",
      "Enter Number of Doors (2 or 4): 4\n",
      "Enter Type of Roof (solid or sunroof): solid\n",
      "\n",
      "Car Year: 2016\n",
      "Car Make: Toyota\n",
      "Car Model: Camry\n",
      "Car Door (2 or 4): 4\n",
      "Car Roof (solid or sun roof): solid\n"
     ]
    }
   ],
   "source": [
    "# Program name: EmmettBuck_Kira_M03-Lab-CaseStudy\n",
    "# Author: Kira Emmett Buck\n",
    "# Date: 6/24/2022\n",
    "# Summary: Create a Vehicle super class and a Car subclass, and use them\n",
    "# Variables:\n",
    "#   Vehicle: super class for a vehicle\n",
    "#       year: car year (str)\n",
    "#       make: make of car (str)\n",
    "#       model: model of car (str)\n",
    "#       door: how many car doors (str)\n",
    "#       roof: type of roof (str)\n",
    "#   Car: subclass of a Vehicle\n",
    "\n",
    "#Vehicle class\n",
    "class Vehicle:\n",
    "#constructor\n",
    "    def __init__(self, year, make, model, door, roof):\n",
    "        self.year = year\n",
    "        self.make = make\n",
    "        self.model = model\n",
    "        self.door = door\n",
    "        self.roof = roof\n",
    "\n",
    "#Car class\n",
    "class Car(Vehicle):\n",
    "#constructor\n",
    "    def __init__(self, year, make, model, door, roof):\n",
    "        super().__init__(year, make, model, door, roof)\n",
    "\n",
    "def main():\n",
    "    # Get user input\n",
    "    carYear = input(\"Enter Car Year: \")\n",
    "    carMake = input(\"Enter Car Make: \")\n",
    "    carModel = input(\"Enter Car Model: \")\n",
    "    carDoor = input(\"Enter Number of Doors (2 or 4): \")\n",
    "    carRoof = input(\"Enter Type of Roof (solid or sunroof): \")\n",
    "\n",
    "    # Display information\n",
    "    print()\n",
    "    print(\"Car Year: \" + carYear)\n",
    "    print(\"Car Make: \" + carMake)\n",
    "    print(\"Car Model: \" + carModel)\n",
    "    print(\"Car Door (2 or 4): \" + carDoor)\n",
    "    print(\"Car Roof (solid or sun roof): \" + carRoof)\n",
    "\n",
    "main()\n"
   ]
  },
  {
   "cell_type": "code",
   "execution_count": null,
   "id": "6e00e252",
   "metadata": {},
   "outputs": [],
   "source": []
  }
 ],
 "metadata": {
  "kernelspec": {
   "display_name": "Python 3 (ipykernel)",
   "language": "python",
   "name": "python3"
  },
  "language_info": {
   "codemirror_mode": {
    "name": "ipython",
    "version": 3
   },
   "file_extension": ".py",
   "mimetype": "text/x-python",
   "name": "python",
   "nbconvert_exporter": "python",
   "pygments_lexer": "ipython3",
   "version": "3.9.12"
  }
 },
 "nbformat": 4,
 "nbformat_minor": 5
}
