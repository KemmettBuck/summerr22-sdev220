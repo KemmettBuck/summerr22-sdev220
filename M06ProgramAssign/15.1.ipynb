{
 "cells": [
  {
   "cell_type": "markdown",
   "id": "35932af5",
   "metadata": {},
   "source": [
    "15.1 Use multiprocessing to create three separate processes. Make each one wait a random number of seconds between zero and one, print the current time, and then exit."
   ]
  },
  {
   "cell_type": "code",
   "execution_count": 1,
   "id": "c43aa482",
   "metadata": {},
   "outputs": [],
   "source": [
    "import multiprocessing"
   ]
  },
  {
   "cell_type": "code",
   "execution_count": 2,
   "id": "1189628e",
   "metadata": {},
   "outputs": [],
   "source": [
    "def now(seconds):\n",
    "    from datetime import datetime\n",
    "    from time import sleep\n",
    "    sleep(seconds)\n",
    "    print('wait', seconds, 'seconds, time is', datetime.utcnow())"
   ]
  },
  {
   "cell_type": "code",
   "execution_count": 4,
   "id": "b86408dc",
   "metadata": {},
   "outputs": [],
   "source": [
    "if __name__ == '__main__':\n",
    "    import random\n",
    "    for n in range(3):\n",
    "        seconds = random.random()\n",
    "        proc = multiprocessing.Process(target=now, args =(seconds,))\n",
    "        proc.start()"
   ]
  },
  {
   "cell_type": "markdown",
   "id": "cf296006",
   "metadata": {},
   "source": [
    "wait 0.10720361113059229 seconds, time is 2019-07-24 00:19:23.951594\n",
    "wait 0.5825144002370065 seconds, time is 2019-07-24 00:19:24.425047\n",
    "wait 0.6647690569029477 seconds, time is 2019-07-24 00:19:24.509995"
   ]
  },
  {
   "cell_type": "code",
   "execution_count": null,
   "id": "9d8f4ee8",
   "metadata": {},
   "outputs": [],
   "source": []
  }
 ],
 "metadata": {
  "kernelspec": {
   "display_name": "Python 3 (ipykernel)",
   "language": "python",
   "name": "python3"
  },
  "language_info": {
   "codemirror_mode": {
    "name": "ipython",
    "version": 3
   },
   "file_extension": ".py",
   "mimetype": "text/x-python",
   "name": "python",
   "nbconvert_exporter": "python",
   "pygments_lexer": "ipython3",
   "version": "3.9.12"
  }
 },
 "nbformat": 4,
 "nbformat_minor": 5
}
