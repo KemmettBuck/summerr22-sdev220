{
 "cells": [
  {
   "cell_type": "markdown",
   "id": "a636bce8",
   "metadata": {},
   "source": [
    "13.1 Write the current date as a string to the text file today.txt."
   ]
  },
  {
   "cell_type": "code",
   "execution_count": 1,
   "id": "dbbcf3a2",
   "metadata": {},
   "outputs": [],
   "source": [
    "from datetime import date"
   ]
  },
  {
   "cell_type": "code",
   "execution_count": 2,
   "id": "62cb873c",
   "metadata": {},
   "outputs": [],
   "source": [
    "now = date.today()"
   ]
  },
  {
   "cell_type": "code",
   "execution_count": 3,
   "id": "c0c96c77",
   "metadata": {},
   "outputs": [],
   "source": [
    "now_str = now.isoformat()"
   ]
  },
  {
   "cell_type": "code",
   "execution_count": 5,
   "id": "c936f3fc",
   "metadata": {},
   "outputs": [],
   "source": [
    "with open('today.txt', 'wt') as output:\n",
    "    print(now_str, file=output)"
   ]
  },
  {
   "cell_type": "markdown",
   "id": "5b436e95",
   "metadata": {},
   "source": [
    "2022-07-14"
   ]
  },
  {
   "cell_type": "markdown",
   "id": "db652353",
   "metadata": {},
   "source": [
    "13.2 Read the text file today.txt into the string today_string."
   ]
  },
  {
   "cell_type": "code",
   "execution_count": 6,
   "id": "fc349fcc",
   "metadata": {},
   "outputs": [],
   "source": [
    "with open('today.txt', 'rt') as input:\n",
    "    today_string = input.read()"
   ]
  },
  {
   "cell_type": "code",
   "execution_count": 7,
   "id": "6824444f",
   "metadata": {},
   "outputs": [
    {
     "data": {
      "text/plain": [
       "'2022-07-14\\n'"
      ]
     },
     "execution_count": 7,
     "metadata": {},
     "output_type": "execute_result"
    }
   ],
   "source": [
    "today_string"
   ]
  },
  {
   "cell_type": "markdown",
   "id": "0feef99f",
   "metadata": {},
   "source": [
    "13.3 Parse the date from today_string."
   ]
  },
  {
   "cell_type": "code",
   "execution_count": 11,
   "id": "721e4026",
   "metadata": {},
   "outputs": [],
   "source": [
    "from datetime import datetime"
   ]
  },
  {
   "cell_type": "code",
   "execution_count": 12,
   "id": "b04f6303",
   "metadata": {},
   "outputs": [],
   "source": [
    "import _strptime"
   ]
  },
  {
   "cell_type": "code",
   "execution_count": 13,
   "id": "a5922c31",
   "metadata": {},
   "outputs": [],
   "source": [
    "fmt = '%Y-%m-%d\\n'"
   ]
  },
  {
   "cell_type": "code",
   "execution_count": 14,
   "id": "bd175cbb",
   "metadata": {},
   "outputs": [
    {
     "data": {
      "text/plain": [
       "datetime.datetime(2022, 7, 14, 0, 0)"
      ]
     },
     "execution_count": 14,
     "metadata": {},
     "output_type": "execute_result"
    }
   ],
   "source": [
    "datetime.strptime(today_string, fmt)"
   ]
  },
  {
   "cell_type": "code",
   "execution_count": null,
   "id": "1f55bc59",
   "metadata": {},
   "outputs": [],
   "source": []
  }
 ],
 "metadata": {
  "kernelspec": {
   "display_name": "Python 3 (ipykernel)",
   "language": "python",
   "name": "python3"
  },
  "language_info": {
   "codemirror_mode": {
    "name": "ipython",
    "version": 3
   },
   "file_extension": ".py",
   "mimetype": "text/x-python",
   "name": "python",
   "nbconvert_exporter": "python",
   "pygments_lexer": "ipython3",
   "version": "3.9.12"
  }
 },
 "nbformat": 4,
 "nbformat_minor": 5
}
